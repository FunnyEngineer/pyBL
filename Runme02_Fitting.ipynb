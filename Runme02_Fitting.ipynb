{
 "cells": [
  {
   "cell_type": "code",
   "execution_count": 1,
   "id": "c6a79dfd",
   "metadata": {},
   "outputs": [
    {
     "name": "stdout",
     "output_type": "stream",
     "text": [
      "There are 12 rows to fit\n",
      "====================== Month : 1 =======================\n",
      "Time cost == 0:01:42.111529, Row 1 theta after Annealing == ['0.022152070', '0.446267031', '1.000000000', '0.000001000', '1.241121967', '4.458169703', '0.368427742', '0.052609615', '1.000000000']\n",
      "The fval of Basinhopping = 1.143779856060076\n",
      "Time cost == 0:01:22.852061, Row 1 theta after Basinhopping == ['0.022151872', '0.446255373', '0.524392904', '1.807197011', '1.241118247', '4.458321583', '0.368432981', '0.052608396', '2.857671930']\n"
     ]
    },
    {
     "name": "stderr",
     "output_type": "stream",
     "text": [
      "/home/user/miniconda3/envs/atm/lib/python3.10/site-packages/scipy/optimize/_hessian_update_strategy.py:182: UserWarning: delta_grad == 0.0. Check if the approximated function is linear. If the function is linear better results can be obtained by defining the Hessian as zero instead of using quasi-Newton approximations.\n",
      "  warn('delta_grad == 0.0. Check if the approximated '\n"
     ]
    },
    {
     "name": "stdout",
     "output_type": "stream",
     "text": [
      "The best method is trust-constr\n",
      "The fval of local minimum = 1.1437798556659005\n",
      "Time cost == 0:00:00.618470, Row 1 theta after Nelder_Mead == ['0.022151916', '0.446255435', '0.524415413', '1.807219131', '1.241109130', '4.458311428', '0.368431291', '0.052608459', '2.857666446']\n",
      "Final Stats : [0.07911563809045719, 4.749857428733029, 0.40809664044139277, 9.852259417799925, 3.5698204852181195, 0.3312697907095644, 6.564143852915636, 2.9124898336910707, 0.2632579983060303, 5.055139665912547, 1.7838001564414683, 0.12243879028898505, 2.8787056655871597]\n",
      "====================== Month : 2 =======================\n",
      "Time cost == 0:01:18.146839, Row 2 theta after Annealing == ['0.006155538', '0.660764163', '1.000000000', '0.000001000', '0.566944127', '6.307934028', '0.112374573', '0.007380687', '1.000000000']\n",
      "The fval of Basinhopping = 1.321400135731861\n",
      "Time cost == 0:01:19.924638, Row 2 theta after Basinhopping == ['0.006155527', '0.660733636', '2.226984014', '0.000001000', '0.566923974', '6.309236092', '0.112356477', '0.007379234', '0.970956378']\n"
     ]
    },
    {
     "name": "stderr",
     "output_type": "stream",
     "text": [
      "/home/user/miniconda3/envs/atm/lib/python3.10/site-packages/scipy/optimize/_hessian_update_strategy.py:182: UserWarning: delta_grad == 0.0. Check if the approximated function is linear. If the function is linear better results can be obtained by defining the Hessian as zero instead of using quasi-Newton approximations.\n",
      "  warn('delta_grad == 0.0. Check if the approximated '\n"
     ]
    },
    {
     "name": "stdout",
     "output_type": "stream",
     "text": [
      "The best method is SLSQP\n",
      "The fval of local minimum = 1.3214001357212999\n",
      "Time cost == 0:00:01.146023, Row 2 theta after Nelder_Mead == ['0.006155526', '0.660733636', '2.226984014', '0.000001000', '0.566923974', '6.309236092', '0.112356477', '0.007379235', '0.970956378']\n",
      "Final Stats : [0.06599392542432432, 5.537925782087483, 0.33857375898618786, 14.206297565518065, 4.037730063116373, 0.37036632533484165, 9.091488495785962, 3.342263010627679, 0.3839675658651117, 7.136174439403185, 2.292767104265505, 0.30230877649320614, 4.552099747928978]\n",
      "====================== Month : 3 =======================\n",
      "Time cost == 0:01:37.031633, Row 3 theta after Annealing == ['0.014442905', '0.541810615', '1.000000000', '0.000001000', '3.145466650', '2.030710596', '0.260940660', '0.037855919', '1.000000000']\n",
      "The best method is TNC\n",
      "The fval of local minimum = 0.3027010472897588\n",
      "Time cost == 0:00:00.609930, Row 3 theta after Nelder_Mead == ['0.014442903', '0.541810586', '1.000000000', '0.000001000', '3.145466647', '2.030710569', '0.260940490', '0.037855906', '1.000000000']\n",
      "Final Stats : [0.06176517833050489, 4.7820497970935545, 0.4499623308897608, 9.431181163124293, 3.6522951296663404, 0.3501089551903634, 6.803423822194972, 3.0007877295578984, 0.3385344475471278, 5.231400604752879, 1.9841722139475941, 0.23276161413411928, 3.11056490146107]\n",
      "====================== Month : 4 =======================\n",
      "Time cost == 0:02:06.381902, Row 4 theta after Annealing == ['0.034120204', '0.789310952', '1.000000000', '0.000001000', '1.645995156', '0.615220347', '20.000000000', '15.793029591', '1.000000000']\n",
      "The fval of Basinhopping = 0.034663236673891894\n",
      "Time cost == 0:01:11.455175, Row 4 theta after Basinhopping == ['0.014389145', '0.173943319', '1.403473141', '1.348999865', '1.015913615', '20.000000000', '0.286983276', '0.012271269', '5.816317802']\n",
      "The best method is L-BFGS-B\n",
      "The fval of local minimum = 0.03466323666297281\n",
      "Time cost == 0:00:02.157034, Row 4 theta after Nelder_Mead == ['0.014389139', '0.173943319', '1.403473141', '1.348999865', '1.015913615', '20.000000000', '0.286983276', '0.012271273', '5.816317802']\n",
      "Final Stats : [0.06103707466325497, 4.876351169928804, 0.48176257188493826, 9.119401580140671, 3.8339552450919494, 0.41589178246125197, 6.773164812212949, 3.225871559937263, 0.32194526397812545, 5.528599125148363, 2.05292223622055, 0.14752012698549366, 3.30074980295677]\n",
      "====================== Month : 5 =======================\n",
      "Time cost == 0:01:54.183768, Row 5 theta after Annealing == ['0.006838976', '2.140954786', '1.000000000', '0.000001000', '0.468858283', '1.715357814', '0.043779519', '0.011798005', '1.000000000']\n"
     ]
    },
    {
     "name": "stderr",
     "output_type": "stream",
     "text": [
      "/home/user/miniconda3/envs/atm/lib/python3.10/site-packages/scipy/optimize/_hessian_update_strategy.py:182: UserWarning: delta_grad == 0.0. Check if the approximated function is linear. If the function is linear better results can be obtained by defining the Hessian as zero instead of using quasi-Newton approximations.\n",
      "  warn('delta_grad == 0.0. Check if the approximated '\n"
     ]
    },
    {
     "name": "stdout",
     "output_type": "stream",
     "text": [
      "The best method is TNC\n",
      "The fval of local minimum = 0.8410150717092271\n",
      "Time cost == 0:00:01.903625, Row 5 theta after Nelder_Mead == ['0.006839276', '2.140954780', '1.000000000', '0.000001000', '0.468858345', '1.715357836', '0.043778677', '0.011798491', '1.000000000']\n",
      "Final Stats : [0.06897433883151922, 6.756470270332982, 0.36147488467676125, 22.7504038774561, 4.912403460769672, 0.2569532074337462, 14.214824889562568, 3.8943823304551466, 0.2291829017011314, 10.307887833363369, 2.382457167314394, 0.20710663567325466, 5.399485120989538]\n",
      "====================== Month : 6 =======================\n",
      "Time cost == 0:01:09.261207, Row 6 theta after Annealing == ['0.008562766', '0.675415606', '1.000000000', '0.000001000', '0.558174180', '20.000000000', '0.070867386', '0.007121174', '1.000000000']\n",
      "The best method is L-BFGS-B\n",
      "The fval of local minimum = 0.41305134867388105\n",
      "Time cost == 0:00:01.423652, Row 6 theta after Nelder_Mead == ['0.008562771', '0.675415606', '1.000000000', '0.000001000', '0.558174181', '20.000000000', '0.070867385', '0.007121181', '1.000000000']\n",
      "Final Stats : [0.06333799603124646, 6.743343014386348, 0.3016359034176344, 15.398488719961536, 4.813291003437741, 0.3143750263050313, 10.011574755041439, 3.901995558439634, 0.2839482493041988, 7.784744087383015, 2.4533469328295174, 0.175652235378922, 4.492439353733181]\n",
      "====================== Month : 7 =======================\n",
      "Time cost == 0:02:28.381934, Row 7 theta after Annealing == ['0.009356405', '1.647256752', '1.000000000', '0.000001000', '0.761175634', '2.423689332', '0.065910649', '0.022771370', '1.000000000']\n",
      "The best method is trust-constr\n",
      "The fval of local minimum = 0.5190271542452566\n",
      "Time cost == 0:00:01.140262, Row 7 theta after Nelder_Mead == ['0.009357269', '1.647260837', '1.395687701', '0.654377432', '0.761162476', '2.423605307', '0.065913045', '0.022775301', '1.396499027']\n",
      "Final Stats : [0.060022477674784004, 7.424092348809516, 0.3372267994872951, 20.05864487677041, 5.324842705435416, 0.24177771218677008, 12.765772951299095, 4.195789732626563, 0.2160060385291458, 9.348000007216068, 2.529543445495156, 0.16741703330212906, 4.953826854138883]\n",
      "====================== Month : 8 =======================\n",
      "Time cost == 0:02:14.028003, Row 8 theta after Annealing == ['0.009029978', '0.653704052', '1.000000000', '0.000001000', '0.554801247', '18.178297416', '0.242714175', '0.023015251', '1.000000000']\n"
     ]
    },
    {
     "name": "stderr",
     "output_type": "stream",
     "text": [
      "/home/user/miniconda3/envs/atm/lib/python3.10/site-packages/scipy/optimize/_hessian_update_strategy.py:182: UserWarning: delta_grad == 0.0. Check if the approximated function is linear. If the function is linear better results can be obtained by defining the Hessian as zero instead of using quasi-Newton approximations.\n",
      "  warn('delta_grad == 0.0. Check if the approximated '\n"
     ]
    },
    {
     "name": "stdout",
     "output_type": "stream",
     "text": [
      "The best method is TNC\n",
      "The fval of local minimum = 0.21132397249314622\n",
      "Time cost == 0:00:01.404970, Row 8 theta after Nelder_Mead == ['0.009029980', '0.653704185', '1.000000000', '0.000001000', '0.554801314', '18.178297456', '0.242714382', '0.023015272', '1.000000000']\n",
      "Final Stats : [0.06815409601998733, 7.70345278471651, 0.36456305630773295, 17.075742184087886, 5.642972068938621, 0.27631887804466615, 11.39077778633432, 4.507881584946581, 0.21098637570229506, 8.608815097119972, 2.6643723440562392, 0.10933655635485683, 4.617537634908731]\n",
      "====================== Month : 9 =======================\n",
      "Time cost == 0:01:42.027122, Row 9 theta after Annealing == ['0.012591265', '0.381809786', '1.000000000', '0.000001000', '1.044186321', '20.000000000', '0.199428735', '0.015103316', '1.000000000']\n"
     ]
    },
    {
     "name": "stderr",
     "output_type": "stream",
     "text": [
      "/home/user/miniconda3/envs/atm/lib/python3.10/site-packages/scipy/optimize/_hessian_update_strategy.py:182: UserWarning: delta_grad == 0.0. Check if the approximated function is linear. If the function is linear better results can be obtained by defining the Hessian as zero instead of using quasi-Newton approximations.\n",
      "  warn('delta_grad == 0.0. Check if the approximated '\n"
     ]
    },
    {
     "name": "stdout",
     "output_type": "stream",
     "text": [
      "The best method is SLSQP\n",
      "The fval of local minimum = 0.17975105622510887\n",
      "Time cost == 0:00:02.172593, Row 9 theta after Nelder_Mead == ['0.012591262', '0.381809786', '1.000000000', '0.000001000', '1.044186321', '20.000000000', '0.199428735', '0.015103316', '1.000000000']\n",
      "Final Stats : [0.06828670759754885, 6.143870220555906, 0.39557576323747007, 11.603824669271816, 4.608076084147218, 0.34109744802470754, 8.06650499892659, 3.773417083792199, 0.2629407125125928, 6.378607380278492, 2.3061282719185856, 0.1188328617875858, 3.675453383994356]\n",
      "====================== Month : 10 =======================\n",
      "Time cost == 0:01:07.189551, Row 10 theta after Annealing == ['0.010305423', '0.246838908', '1.000000000', '0.000001000', '0.563717795', '20.000000000', '0.444737704', '0.012548133', '1.000000000']\n"
     ]
    },
    {
     "name": "stderr",
     "output_type": "stream",
     "text": [
      "/home/user/miniconda3/envs/atm/lib/python3.10/site-packages/scipy/optimize/_hessian_update_strategy.py:182: UserWarning: delta_grad == 0.0. Check if the approximated function is linear. If the function is linear better results can be obtained by defining the Hessian as zero instead of using quasi-Newton approximations.\n",
      "  warn('delta_grad == 0.0. Check if the approximated '\n"
     ]
    },
    {
     "name": "stdout",
     "output_type": "stream",
     "text": [
      "The best method is L-BFGS-B\n",
      "The fval of local minimum = 0.12837780332234322\n",
      "Time cost == 0:00:01.620543, Row 10 theta after Nelder_Mead == ['0.010305423', '0.246838908', '1.000000000', '0.000001000', '0.563717795', '20.000000000', '0.444737704', '0.012548133', '1.000000000']\n",
      "Final Stats : [0.09270178285232045, 5.2343548827005275, 0.5292237856168338, 11.929528634716311, 4.194207727951785, 0.4139797221173502, 9.017147361670204, 3.52660264517421, 0.3175903643279308, 7.18557028361532, 2.2455593899735926, 0.16285643785486165, 4.060830560028749]\n",
      "====================== Month : 11 =======================\n",
      "Time cost == 0:01:21.383695, Row 11 theta after Annealing == ['0.015772789', '0.410297225', '1.000000000', '0.000001000', '1.817060057', '3.343902921', '0.632824555', '0.053778156', '1.000000000']\n"
     ]
    },
    {
     "name": "stderr",
     "output_type": "stream",
     "text": [
      "/home/user/miniconda3/envs/atm/lib/python3.10/site-packages/scipy/optimize/_hessian_update_strategy.py:182: UserWarning: delta_grad == 0.0. Check if the approximated function is linear. If the function is linear better results can be obtained by defining the Hessian as zero instead of using quasi-Newton approximations.\n",
      "  warn('delta_grad == 0.0. Check if the approximated '\n"
     ]
    },
    {
     "name": "stdout",
     "output_type": "stream",
     "text": [
      "The best method is L-BFGS-B\n",
      "The fval of local minimum = 0.14431139343214466\n",
      "Time cost == 0:00:00.868341, Row 11 theta after Nelder_Mead == ['0.015772789', '0.410297225', '1.000000000', '0.000001000', '1.817060057', '3.343902921', '0.632824555', '0.053778156', '1.000000000']\n",
      "Final Stats : [0.08262408828372021, 4.660139977080999, 0.5035732741673541, 8.898860615052154, 3.6912321569659987, 0.42721586599790207, 6.295684769642746, 3.118180098080974, 0.34835181283010097, 5.056323472630921, 2.0225179281947527, 0.15614274727100858, 3.126517160454531]\n",
      "====================== Month : 12 =======================\n",
      "Time cost == 0:01:27.039549, Row 12 theta after Annealing == ['0.033120998', '1.009569090', '1.000000000', '0.000001000', '3.974101390', '0.479972420', '20.000000000', '16.562847572', '1.000000000']\n",
      "The fval of Basinhopping = 0.21544229116286878\n",
      "Time cost == 0:01:13.822235, Row 12 theta after Basinhopping == ['0.014410740', '0.111147186', '3.149256212', '4.640282280', '1.352537082', '20.000000000', '0.580903725', '0.012884594', '5.023981253']\n",
      "The best method is TNC\n",
      "The fval of local minimum = 0.21544229115890295\n",
      "Time cost == 0:00:07.375111, Row 12 theta after Nelder_Mead == ['0.014410736', '0.111146779', '3.149256212', '4.640282280', '1.352537314', '20.000000000', '0.580903530', '0.012884596', '5.023981253']\n",
      "Final Stats : [0.07381485214956279, 4.53050800493252, 0.5905214304840513, 7.7605705990367, 3.7518379718477, 0.4738500347909931, 6.189692857528162, 3.2207404276546763, 0.3496019618012127, 5.206041177840852, 2.076536180447278, 0.14278967004021248, 3.2210287876426724]\n"
     ]
    }
   ],
   "source": [
    "#2:40 per month\n",
    "import pandas as pd\n",
    "import argparse\n",
    "import numpy as np\n",
    "from Library.Cal_stats_lib.utils.utils import *\n",
    "import dotmap\n",
    "from datetime import datetime as dt\n",
    "from Library.BLRPRmodel.BLRPRx import *\n",
    "\n",
    "from Library.Fitting_lib import fitting, objectiveFunction\n",
    "from datetime import datetime\n",
    "\n",
    "args = yaml.load(open('./config/default.yaml'), Loader=yaml.FullLoader)\n",
    "args = dotmap.DotMap(args)\n",
    "\n",
    "# step 0 read statistical properties and corresponding weights\n",
    "num_month = pd.read_csv(args.IO.stats_file_path, index_col=0, header=0).shape[0]\n",
    "TSF = pd.read_csv(args.IO.config_path, index_col=0, header=None)\n",
    "timeScale = TSF.loc['time'].dropna().tolist()\n",
    "timeScaleList = fitting.scalesTransform(timeScale)\n",
    "print('There are {} rows to fit'.format(num_month))\n",
    "file = pd.read_csv('./02 Output_data/result.csv')\n",
    "result_csv = []\n",
    "sav = {}\n",
    "\n",
    "\n",
    "# for each calendar month\n",
    "for month in range(1,  num_month+1):\n",
    "    print(f'====================== Month : {month} =======================')\n",
    "    # step 1 set initial theta\n",
    "    theta = [None] * 9\n",
    "    if args.fitting.theta_initial is None:\n",
    "        theta[0] = 0.01  # lambda #\n",
    "        theta[1] = 0.1  # iota #\n",
    "        theta[2] = 1.0  # sigma/mu\n",
    "        theta[3] = 1e-6  # spare space\n",
    "        theta[4] = 2.1  # alpha #\n",
    "        theta[5] = 7.1  # alpha/nu\n",
    "        theta[6] = 0.1  # kappa #\n",
    "        theta[7] = 0.1  # phi #\n",
    "        theta[8] = 1.0  # c\n",
    "    else:\n",
    "        theta = args.fitting.theta_initial\n",
    "    #print(f'Original theta : {theta}')\n",
    "\n",
    "    # step 2 initialize objective function\n",
    "    obj = objectiveFunction.Exponential_func\n",
    "\n",
    "    # step 3 initialize fitting model\n",
    "    if args.fitting.moment == 'BLRPRx':\n",
    "        fitting_model = BLRPRx(args.fitting.intensity_mode)\n",
    "\n",
    "    # step 4 find approximate global optimum using Dual Annealing algorithm.\n",
    "    past = datetime.now()\n",
    "    final, score = fitting.Annealing(\n",
    "        theta, obj, fitting_model, month, timeScaleList, args.IO.stats_file_path, args.IO.weight_file_path, args.IO.config_path)\n",
    "    \n",
    "    print('Time cost == {}, Row {} theta after Annealing == {}'.format((datetime.now() - past), month,\n",
    "                                                                       [\"%.9f\" % elem for elem in final]))\n",
    "    if score >= 1:\n",
    "        past = datetime.now()\n",
    "        final, score = fitting.Basinhopping(theta, obj, fitting_model, month, timeScaleList,\n",
    "                                            args.IO.stats_file_path, args.IO.weight_file_path, args.IO.config_path)\n",
    "        print('Time cost == {}, Row {} theta after Basinhopping == {}'.format((datetime.now() - past),\n",
    "                                                                              month,[\"%.9f\" % elem for elem in final]))\n",
    "    \n",
    "    # step 5 try to find a better local minimum using Nelder Mead algorithm\n",
    "    past = datetime.now()\n",
    "    local_final, local_score = fitting.Nelder_Mead(\n",
    "        final, obj, fitting_model, month, timeScaleList, args.IO.stats_file_path, args.IO.weight_file_path, args.IO.config_path)\n",
    "    \n",
    "    print('Time cost == {}, Row {} theta after Nelder_Mead == {}'.format((datetime.now() - past), month,\n",
    "                                                                         [\"%.9f\" % elem for elem in local_final]))\n",
    "\n",
    "    final = local_final if local_score < score else final\n",
    "    final_stats = objectiveFunction.Cal(final, timeScaleList, fitting_model)\n",
    "    sav[month] = final_stats\n",
    "    print(f'Final Stats : {final_stats}')\n",
    "    \n",
    "    # do some minor modifications\n",
    "    # delete useless variables\n",
    "    final = np.delete(final, [2, 3])\n",
    "    final[-1] = 1.0\n",
    "    result_csv.append(final)\n",
    "    file.loc[month] = final\n",
    "    \n",
    "prop = pd.read_csv(args.IO.config_path, index_col=0, header=None)\n",
    "propertyList = prop.loc['prop'].dropna().to_numpy().tolist()\n",
    "    \n",
    "cols = []\n",
    "for sinscale in timeScale:\n",
    "    for sinStaprop in propertyList[:-1]:\n",
    "        cols.append(str(sinStaprop) + '_' + str(sinscale))\n",
    "\n",
    "cols.insert(0,'Mean_1h')\n",
    "# step 6 output the result theta\n",
    "file.to_csv('./02 Output_data/Theta.csv', index=False)\n",
    "\n",
    "df = pd.DataFrame(sav).T\n",
    "df.columns = cols\n",
    "df.to_csv('Mfinal_staProp.csv')\n",
    "print('Done')"
   ]
  },
  {
   "cell_type": "code",
   "execution_count": null,
   "id": "7fd928fa",
   "metadata": {},
   "outputs": [],
   "source": []
  }
 ],
 "metadata": {
  "kernelspec": {
   "display_name": "Python 3 (ipykernel)",
   "language": "python",
   "name": "python3"
  },
  "language_info": {
   "codemirror_mode": {
    "name": "ipython",
    "version": 3
   },
   "file_extension": ".py",
   "mimetype": "text/x-python",
   "name": "python",
   "nbconvert_exporter": "python",
   "pygments_lexer": "ipython3",
   "version": "3.10.9"
  }
 },
 "nbformat": 4,
 "nbformat_minor": 5
}
