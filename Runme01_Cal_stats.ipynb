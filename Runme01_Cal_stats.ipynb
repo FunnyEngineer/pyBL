{
 "cells": [
  {
   "cell_type": "code",
   "execution_count": 1,
   "id": "c9863348",
   "metadata": {},
   "outputs": [
    {
     "name": "stdout",
     "output_type": "stream",
     "text": [
      "The used properties: ['CV' 'AR-1' 'Skewness' 'pDry']\n",
      "The time scales: ['1h' '3h' '6h' '1D']\n",
      "The time scale of Mean: ['1h' '3h' '6h' '1D']\n",
      "Output time scale for Mean: ['1h']\n",
      "1980-01-01 00:00:00 1996-12-31 23:00:00\n",
      "OUTPUT FIN\n"
     ]
    }
   ],
   "source": [
    "#5T 1H 6H 1D\n",
    "#1H 3H 6H 1D\n",
    "# datatime not datetime\n",
    "import dotmap\n",
    "from datetime import datetime as dt\n",
    "from Library.Cal_stats_lib.utils.utils import *\n",
    "from Library.Cal_stats_lib.utils.stats_calculation import *\n",
    "\n",
    "args = yaml.load(open('./config/default.yaml'), Loader=yaml.FullLoader)\n",
    "args = dotmap.DotMap(args)\n",
    "\n",
    "# step 1 get the input\n",
    "rawData = pd.read_csv('./01 Input_data/test.csv', index_col='datatime')\n",
    "rawData.index = pd.to_datetime(rawData.index)\n",
    "pDryThreshold=0.5\n",
    "\n",
    "# step 1.5 check the value\n",
    "if len(rawData.columns.values) != 1:\n",
    "    print('the raw data have more than one column!! Check again!!')\n",
    "else:\n",
    "    rawData = rawData[rawData.columns.values[0]]\n",
    "    ## delete all the negative number\n",
    "    ## assign flags\n",
    "    rawData = rawData.drop(rawData.index[rawData < 0.0])\n",
    "\n",
    "# step 2 read which kind of property\n",
    "prop = pd.read_csv(args.IO.config_path, index_col=0, header=None)\n",
    "propertyList = prop.loc['prop'].dropna().to_numpy()\n",
    "print('The used properties: {}'.format(propertyList))\n",
    "\n",
    "# step 3 read the timescale\n",
    "timeScaleList = prop.loc['time'].dropna().to_numpy()\n",
    "meanTimeScale = prop.loc['timeForMean'].dropna().to_numpy()\n",
    "outputMean = prop.loc['OutputTimeScaleForMean'].dropna().to_numpy()\n",
    "print('The time scales: {}'.format(timeScaleList))\n",
    "print('The time scale of Mean: {}'.format(meanTimeScale))\n",
    "print(f'Output time scale for Mean: {outputMean}')\n",
    "\n",
    "if outputMean[0] not in meanTimeScale.tolist():\n",
    "    print('-'*50)\n",
    "    print(f'Mean will not be calculated because {outputMean} is not in timeForMean, please choose the scale from timeForMean.')\n",
    "    \n",
    "# step 4-6 calculate and output statistical properties and their weights\n",
    "createStatisticalFile(rawData, propertyList, timeScaleList, meanTimeScale, outputMean, args.IO.stats_file_path, args.IO.weight_file_path, pDryThreshold)\n"
   ]
  },
  {
   "cell_type": "code",
   "execution_count": null,
   "id": "de0e02f5",
   "metadata": {},
   "outputs": [],
   "source": []
  }
 ],
 "metadata": {
  "kernelspec": {
   "display_name": "Python 3 (ipykernel)",
   "language": "python",
   "name": "python3"
  },
  "language_info": {
   "codemirror_mode": {
    "name": "ipython",
    "version": 3
   },
   "file_extension": ".py",
   "mimetype": "text/x-python",
   "name": "python",
   "nbconvert_exporter": "python",
   "pygments_lexer": "ipython3",
   "version": "3.10.9"
  }
 },
 "nbformat": 4,
 "nbformat_minor": 5
}
